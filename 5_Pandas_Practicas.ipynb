{
  "nbformat": 4,
  "nbformat_minor": 0,
  "metadata": {
    "colab": {
      "name": "5 - Pandas_Practicas.ipynb",
      "provenance": [],
      "authorship_tag": "ABX9TyOE7JnM3SUtw4RN7SqtlU82",
      "include_colab_link": true
    },
    "kernelspec": {
      "name": "python3",
      "display_name": "Python 3"
    },
    "language_info": {
      "name": "python"
    }
  },
  "cells": [
    {
      "cell_type": "markdown",
      "metadata": {
        "id": "view-in-github",
        "colab_type": "text"
      },
      "source": [
        "<a href=\"https://colab.research.google.com/github/pedrociancaglini/ds_coder/blob/main/5_Pandas_Practicas.ipynb\" target=\"_parent\"><img src=\"https://colab.research.google.com/assets/colab-badge.svg\" alt=\"Open In Colab\"/></a>"
      ]
    },
    {
      "cell_type": "code",
      "metadata": {
        "id": "8cwhtO3VTN23"
      },
      "source": [
        "import pandas as pd\n",
        "import numpy as np"
      ],
      "execution_count": 3,
      "outputs": []
    },
    {
      "cell_type": "code",
      "metadata": {
        "colab": {
          "base_uri": "https://localhost:8080/"
        },
        "id": "t9E35yn4VzzW",
        "outputId": "7ea262ad-213f-4068-8d28-a6fb27071d86"
      },
      "source": [
        "Numeros = range(50, 70, 2)\n",
        "Numeros_series = pd.Series(Numeros)\n",
        "print(Numeros_series)"
      ],
      "execution_count": 6,
      "outputs": [
        {
          "output_type": "stream",
          "text": [
            "0    50\n",
            "1    52\n",
            "2    54\n",
            "3    56\n",
            "4    58\n",
            "5    60\n",
            "6    62\n",
            "7    64\n",
            "8    66\n",
            "9    68\n",
            "dtype: int64\n"
          ],
          "name": "stdout"
        }
      ]
    },
    {
      "cell_type": "code",
      "metadata": {
        "colab": {
          "base_uri": "https://localhost:8080/"
        },
        "id": "YBq28XmsWLVZ",
        "outputId": "e39adb4a-7669-4cc1-b58e-cf02997ef9a3"
      },
      "source": [
        "print(Numeros_series[2])"
      ],
      "execution_count": 8,
      "outputs": [
        {
          "output_type": "stream",
          "text": [
            "54\n"
          ],
          "name": "stdout"
        }
      ]
    },
    {
      "cell_type": "code",
      "metadata": {
        "colab": {
          "base_uri": "https://localhost:8080/"
        },
        "id": "XAnsYbmFWPFp",
        "outputId": "4ac1fdf3-e119-4d62-ce07-2a465a3cff43"
      },
      "source": [
        "print(Numeros_series.index)"
      ],
      "execution_count": 10,
      "outputs": [
        {
          "output_type": "stream",
          "text": [
            "RangeIndex(start=0, stop=10, step=1)\n"
          ],
          "name": "stdout"
        }
      ]
    },
    {
      "cell_type": "code",
      "metadata": {
        "colab": {
          "base_uri": "https://localhost:8080/"
        },
        "id": "uBYj_OlOdvPN",
        "outputId": "ce817350-f4b7-41db-cbcb-c6341f061ba7"
      },
      "source": [
        "print(Numeros_series.values)"
      ],
      "execution_count": 12,
      "outputs": [
        {
          "output_type": "stream",
          "text": [
            "[50 52 54 56 58 60 62 64 66 68]\n"
          ],
          "name": "stdout"
        }
      ]
    },
    {
      "cell_type": "code",
      "metadata": {
        "colab": {
          "base_uri": "https://localhost:8080/"
        },
        "id": "FyPMTqiHd1dC",
        "outputId": "b3cde9e2-bb24-44e9-c08b-5926dffcd7d5"
      },
      "source": [
        "Numeros_en_texto = ['primero','segundo','tercero','cuarto','quinto','sexto','septimo','octavo','noveno','decimo',]\n",
        "Numeros_serie_2 = pd.Series(Numeros, index=Numeros_en_texto)\n",
        "print(Numeros_serie_2)"
      ],
      "execution_count": 14,
      "outputs": [
        {
          "output_type": "stream",
          "text": [
            "primero    50\n",
            "segundo    52\n",
            "tercero    54\n",
            "cuarto     56\n",
            "quinto     58\n",
            "sexto      60\n",
            "septimo    62\n",
            "octavo     64\n",
            "noveno     66\n",
            "decimo     68\n",
            "dtype: int64\n"
          ],
          "name": "stdout"
        }
      ]
    },
    {
      "cell_type": "code",
      "metadata": {
        "id": "fZIMGjnkeVuZ"
      },
      "source": [
        "modelos = ['A4 3.0 Quattro 4dr manual', 'A4 3.0 Quattro 4dr auto', 'A6 3.0 4dr', 'A6 3.0 Quattro 4dr', 'A4 3.0 convertible 2dr']\n",
        "peso = [3583, 3627, 3561, 3880, 3814]\n",
        "precios = ['$33,430', '$34,480', '$36,640', '$39,640', '$42,490']"
      ],
      "execution_count": 16,
      "outputs": []
    },
    {
      "cell_type": "code",
      "metadata": {
        "id": "YCcbimYnhUFh"
      },
      "source": [
        "Autos_peso = pd.Series(peso,index=modelos)\n",
        "Autos_precio = pd.Series(precios,index=modelos)"
      ],
      "execution_count": 18,
      "outputs": []
    },
    {
      "cell_type": "code",
      "metadata": {
        "colab": {
          "base_uri": "https://localhost:8080/"
        },
        "id": "26r-HJYEhbmB",
        "outputId": "af7a5274-832e-4c2c-c896-226dcb731a7c"
      },
      "source": [
        "print(Autos_precio)"
      ],
      "execution_count": 20,
      "outputs": [
        {
          "output_type": "stream",
          "text": [
            "A4 3.0 Quattro 4dr manual    $33,430\n",
            "A4 3.0 Quattro 4dr auto      $34,480\n",
            "A6 3.0 4dr                   $36,640\n",
            "A6 3.0 Quattro 4dr           $39,640\n",
            "A4 3.0 convertible 2dr       $42,490\n",
            "dtype: object\n"
          ],
          "name": "stdout"
        }
      ]
    },
    {
      "cell_type": "code",
      "metadata": {
        "colab": {
          "base_uri": "https://localhost:8080/"
        },
        "id": "M4JDNHk7hheh",
        "outputId": "75674dea-1ed0-4036-a684-852d61aa1760"
      },
      "source": [
        "print(Autos_peso)"
      ],
      "execution_count": 22,
      "outputs": [
        {
          "output_type": "stream",
          "text": [
            "A4 3.0 Quattro 4dr manual    3583\n",
            "A4 3.0 Quattro 4dr auto      3627\n",
            "A6 3.0 4dr                   3561\n",
            "A6 3.0 Quattro 4dr           3880\n",
            "A4 3.0 convertible 2dr       3814\n",
            "dtype: int64\n"
          ],
          "name": "stdout"
        }
      ]
    },
    {
      "cell_type": "code",
      "metadata": {
        "colab": {
          "base_uri": "https://localhost:8080/",
          "height": 204
        },
        "id": "5d99lXsyiSHr",
        "outputId": "4f2bf7d5-1452-4f21-d5f8-05311b9135af"
      },
      "source": [
        "Autos = pd.DataFrame({'Peso':Autos_peso,'Precio':Autos_precio})\n",
        "Autos"
      ],
      "execution_count": 24,
      "outputs": [
        {
          "output_type": "execute_result",
          "data": {
            "text/plain": [
              "                           Peso   Precio\n",
              "A4 3.0 Quattro 4dr manual  3583  $33,430\n",
              "A4 3.0 Quattro 4dr auto    3627  $34,480\n",
              "A6 3.0 4dr                 3561  $36,640\n",
              "A6 3.0 Quattro 4dr         3880  $39,640\n",
              "A4 3.0 convertible 2dr     3814  $42,490"
            ],
            "text/html": [
              "<div>\n",
              "<style scoped>\n",
              "    .dataframe tbody tr th:only-of-type {\n",
              "        vertical-align: middle;\n",
              "    }\n",
              "\n",
              "    .dataframe tbody tr th {\n",
              "        vertical-align: top;\n",
              "    }\n",
              "\n",
              "    .dataframe thead th {\n",
              "        text-align: right;\n",
              "    }\n",
              "</style>\n",
              "<table border=\"1\" class=\"dataframe\">\n",
              "  <thead>\n",
              "    <tr style=\"text-align: right;\">\n",
              "      <th></th>\n",
              "      <th>Peso</th>\n",
              "      <th>Precio</th>\n",
              "    </tr>\n",
              "  </thead>\n",
              "  <tbody>\n",
              "    <tr>\n",
              "      <th>A4 3.0 Quattro 4dr manual</th>\n",
              "      <td>3583</td>\n",
              "      <td>$33,430</td>\n",
              "    </tr>\n",
              "    <tr>\n",
              "      <th>A4 3.0 Quattro 4dr auto</th>\n",
              "      <td>3627</td>\n",
              "      <td>$34,480</td>\n",
              "    </tr>\n",
              "    <tr>\n",
              "      <th>A6 3.0 4dr</th>\n",
              "      <td>3561</td>\n",
              "      <td>$36,640</td>\n",
              "    </tr>\n",
              "    <tr>\n",
              "      <th>A6 3.0 Quattro 4dr</th>\n",
              "      <td>3880</td>\n",
              "      <td>$39,640</td>\n",
              "    </tr>\n",
              "    <tr>\n",
              "      <th>A4 3.0 convertible 2dr</th>\n",
              "      <td>3814</td>\n",
              "      <td>$42,490</td>\n",
              "    </tr>\n",
              "  </tbody>\n",
              "</table>\n",
              "</div>"
            ]
          },
          "metadata": {
            "tags": []
          },
          "execution_count": 24
        }
      ]
    },
    {
      "cell_type": "code",
      "metadata": {
        "colab": {
          "base_uri": "https://localhost:8080/",
          "height": 297
        },
        "id": "ZfSGToz4ibXx",
        "outputId": "a196cdd7-ac38-4945-8c9f-e95246732711"
      },
      "source": [
        "# Playing with Chess\n",
        "Ajedrez_64 = np.arange(1,65).reshape(8,8)\n",
        "Ajedrez_df = pd.DataFrame(Ajedrez_64, columns=range(1,9), index=['A','B','C','D','E','F','G','H']) \n",
        "Ajedrez_df\n"
      ],
      "execution_count": 26,
      "outputs": [
        {
          "output_type": "execute_result",
          "data": {
            "text/plain": [
              "    1   2   3   4   5   6   7   8\n",
              "A   1   2   3   4   5   6   7   8\n",
              "B   9  10  11  12  13  14  15  16\n",
              "C  17  18  19  20  21  22  23  24\n",
              "D  25  26  27  28  29  30  31  32\n",
              "E  33  34  35  36  37  38  39  40\n",
              "F  41  42  43  44  45  46  47  48\n",
              "G  49  50  51  52  53  54  55  56\n",
              "H  57  58  59  60  61  62  63  64"
            ],
            "text/html": [
              "<div>\n",
              "<style scoped>\n",
              "    .dataframe tbody tr th:only-of-type {\n",
              "        vertical-align: middle;\n",
              "    }\n",
              "\n",
              "    .dataframe tbody tr th {\n",
              "        vertical-align: top;\n",
              "    }\n",
              "\n",
              "    .dataframe thead th {\n",
              "        text-align: right;\n",
              "    }\n",
              "</style>\n",
              "<table border=\"1\" class=\"dataframe\">\n",
              "  <thead>\n",
              "    <tr style=\"text-align: right;\">\n",
              "      <th></th>\n",
              "      <th>1</th>\n",
              "      <th>2</th>\n",
              "      <th>3</th>\n",
              "      <th>4</th>\n",
              "      <th>5</th>\n",
              "      <th>6</th>\n",
              "      <th>7</th>\n",
              "      <th>8</th>\n",
              "    </tr>\n",
              "  </thead>\n",
              "  <tbody>\n",
              "    <tr>\n",
              "      <th>A</th>\n",
              "      <td>1</td>\n",
              "      <td>2</td>\n",
              "      <td>3</td>\n",
              "      <td>4</td>\n",
              "      <td>5</td>\n",
              "      <td>6</td>\n",
              "      <td>7</td>\n",
              "      <td>8</td>\n",
              "    </tr>\n",
              "    <tr>\n",
              "      <th>B</th>\n",
              "      <td>9</td>\n",
              "      <td>10</td>\n",
              "      <td>11</td>\n",
              "      <td>12</td>\n",
              "      <td>13</td>\n",
              "      <td>14</td>\n",
              "      <td>15</td>\n",
              "      <td>16</td>\n",
              "    </tr>\n",
              "    <tr>\n",
              "      <th>C</th>\n",
              "      <td>17</td>\n",
              "      <td>18</td>\n",
              "      <td>19</td>\n",
              "      <td>20</td>\n",
              "      <td>21</td>\n",
              "      <td>22</td>\n",
              "      <td>23</td>\n",
              "      <td>24</td>\n",
              "    </tr>\n",
              "    <tr>\n",
              "      <th>D</th>\n",
              "      <td>25</td>\n",
              "      <td>26</td>\n",
              "      <td>27</td>\n",
              "      <td>28</td>\n",
              "      <td>29</td>\n",
              "      <td>30</td>\n",
              "      <td>31</td>\n",
              "      <td>32</td>\n",
              "    </tr>\n",
              "    <tr>\n",
              "      <th>E</th>\n",
              "      <td>33</td>\n",
              "      <td>34</td>\n",
              "      <td>35</td>\n",
              "      <td>36</td>\n",
              "      <td>37</td>\n",
              "      <td>38</td>\n",
              "      <td>39</td>\n",
              "      <td>40</td>\n",
              "    </tr>\n",
              "    <tr>\n",
              "      <th>F</th>\n",
              "      <td>41</td>\n",
              "      <td>42</td>\n",
              "      <td>43</td>\n",
              "      <td>44</td>\n",
              "      <td>45</td>\n",
              "      <td>46</td>\n",
              "      <td>47</td>\n",
              "      <td>48</td>\n",
              "    </tr>\n",
              "    <tr>\n",
              "      <th>G</th>\n",
              "      <td>49</td>\n",
              "      <td>50</td>\n",
              "      <td>51</td>\n",
              "      <td>52</td>\n",
              "      <td>53</td>\n",
              "      <td>54</td>\n",
              "      <td>55</td>\n",
              "      <td>56</td>\n",
              "    </tr>\n",
              "    <tr>\n",
              "      <th>H</th>\n",
              "      <td>57</td>\n",
              "      <td>58</td>\n",
              "      <td>59</td>\n",
              "      <td>60</td>\n",
              "      <td>61</td>\n",
              "      <td>62</td>\n",
              "      <td>63</td>\n",
              "      <td>64</td>\n",
              "    </tr>\n",
              "  </tbody>\n",
              "</table>\n",
              "</div>"
            ]
          },
          "metadata": {
            "tags": []
          },
          "execution_count": 26
        }
      ]
    },
    {
      "cell_type": "markdown",
      "metadata": {
        "id": "JSbJqKDI6k-C"
      },
      "source": [
        "**Seleccion de elementos**"
      ]
    },
    {
      "cell_type": "code",
      "metadata": {
        "colab": {
          "base_uri": "https://localhost:8080/"
        },
        "id": "BOQiNtlripSx",
        "outputId": "fc3cc01b-3a25-4ac0-ebae-742d37b3bafc"
      },
      "source": [
        "# Mediante Indice\n",
        "Numeros_serie_2['quinto']"
      ],
      "execution_count": 29,
      "outputs": [
        {
          "output_type": "execute_result",
          "data": {
            "text/plain": [
              "58"
            ]
          },
          "metadata": {
            "tags": []
          },
          "execution_count": 29
        }
      ]
    },
    {
      "cell_type": "code",
      "metadata": {
        "colab": {
          "base_uri": "https://localhost:8080/"
        },
        "id": "CUMyZsdy60gI",
        "outputId": "be370a3a-0d51-4666-adeb-37a591c82c62"
      },
      "source": [
        "# Mediante el metodo loc()\n",
        "Numeros_serie_2.loc['quinto']"
      ],
      "execution_count": 31,
      "outputs": [
        {
          "output_type": "execute_result",
          "data": {
            "text/plain": [
              "58"
            ]
          },
          "metadata": {
            "tags": []
          },
          "execution_count": 31
        }
      ]
    },
    {
      "cell_type": "code",
      "metadata": {
        "colab": {
          "base_uri": "https://localhost:8080/"
        },
        "id": "v7J_K9Ub673w",
        "outputId": "e68451ae-8a50-4dd6-c8c8-e485585979a8"
      },
      "source": [
        "# Mediante el metodo iloc()\n",
        "# Solo para indices numericos\n",
        "Numeros_serie_2.iloc[4]"
      ],
      "execution_count": 34,
      "outputs": [
        {
          "output_type": "execute_result",
          "data": {
            "text/plain": [
              "58"
            ]
          },
          "metadata": {
            "tags": []
          },
          "execution_count": 34
        }
      ]
    },
    {
      "cell_type": "markdown",
      "metadata": {
        "id": "DWqBizaR7uOo"
      },
      "source": [
        "**Seleccionando un Data Frame**"
      ]
    },
    {
      "cell_type": "code",
      "metadata": {
        "colab": {
          "base_uri": "https://localhost:8080/"
        },
        "id": "I4zVZovf7IKA",
        "outputId": "b370bf50-884f-4bf7-a92c-26207ced1023"
      },
      "source": [
        "# Tambien podemos seleccionar partes especificas del Data Frame como columnas, indices y valores\n",
        "Autos.index"
      ],
      "execution_count": 35,
      "outputs": [
        {
          "output_type": "execute_result",
          "data": {
            "text/plain": [
              "Index(['A4 3.0 Quattro 4dr manual', 'A4 3.0 Quattro 4dr auto', 'A6 3.0 4dr',\n",
              "       'A6 3.0 Quattro 4dr', 'A4 3.0 convertible 2dr'],\n",
              "      dtype='object')"
            ]
          },
          "metadata": {
            "tags": []
          },
          "execution_count": 35
        }
      ]
    },
    {
      "cell_type": "code",
      "metadata": {
        "colab": {
          "base_uri": "https://localhost:8080/"
        },
        "id": "evjDT-0j6oLE",
        "outputId": "8c23564e-8e84-4582-e911-dcbd2ba3fcf3"
      },
      "source": [
        "Autos.columns"
      ],
      "execution_count": 37,
      "outputs": [
        {
          "output_type": "execute_result",
          "data": {
            "text/plain": [
              "Index(['Peso', 'Precio'], dtype='object')"
            ]
          },
          "metadata": {
            "tags": []
          },
          "execution_count": 37
        }
      ]
    },
    {
      "cell_type": "code",
      "metadata": {
        "colab": {
          "base_uri": "https://localhost:8080/"
        },
        "id": "QLbUQlQu8C1Q",
        "outputId": "8627a7fa-8f95-403e-b0f1-6ddc6316b02e"
      },
      "source": [
        "Autos.values"
      ],
      "execution_count": 38,
      "outputs": [
        {
          "output_type": "execute_result",
          "data": {
            "text/plain": [
              "array([[3583, '$33,430'],\n",
              "       [3627, '$34,480'],\n",
              "       [3561, '$36,640'],\n",
              "       [3880, '$39,640'],\n",
              "       [3814, '$42,490']], dtype=object)"
            ]
          },
          "metadata": {
            "tags": []
          },
          "execution_count": 38
        }
      ]
    },
    {
      "cell_type": "code",
      "metadata": {
        "colab": {
          "base_uri": "https://localhost:8080/"
        },
        "id": "N62ceYxH8FoQ",
        "outputId": "1aacce5d-1979-4c3b-80cd-8f880ec173a6"
      },
      "source": [
        "# Seleccion de columna\n",
        "Autos['Peso']"
      ],
      "execution_count": 40,
      "outputs": [
        {
          "output_type": "execute_result",
          "data": {
            "text/plain": [
              "A4 3.0 Quattro 4dr manual    3583\n",
              "A4 3.0 Quattro 4dr auto      3627\n",
              "A6 3.0 4dr                   3561\n",
              "A6 3.0 Quattro 4dr           3880\n",
              "A4 3.0 convertible 2dr       3814\n",
              "Name: Peso, dtype: int64"
            ]
          },
          "metadata": {
            "tags": []
          },
          "execution_count": 40
        }
      ]
    },
    {
      "cell_type": "code",
      "metadata": {
        "colab": {
          "base_uri": "https://localhost:8080/"
        },
        "id": "6DtqU-4n8nbX",
        "outputId": "41945b81-8bc8-42ea-91f4-d7f95cb81445"
      },
      "source": [
        "# Seleccion de fila\n",
        "Autos.values[1]"
      ],
      "execution_count": 42,
      "outputs": [
        {
          "output_type": "execute_result",
          "data": {
            "text/plain": [
              "array([3627, '$34,480'], dtype=object)"
            ]
          },
          "metadata": {
            "tags": []
          },
          "execution_count": 42
        }
      ]
    },
    {
      "cell_type": "code",
      "metadata": {
        "colab": {
          "base_uri": "https://localhost:8080/"
        },
        "id": "IPMt58us-vbR",
        "outputId": "6e515e0c-7652-45f2-df95-305a7a73d298"
      },
      "source": [
        "Autos.loc['A4 3.0 Quattro 4dr auto']"
      ],
      "execution_count": 44,
      "outputs": [
        {
          "output_type": "execute_result",
          "data": {
            "text/plain": [
              "Peso         3627\n",
              "Precio    $34,480\n",
              "Name: A4 3.0 Quattro 4dr auto, dtype: object"
            ]
          },
          "metadata": {
            "tags": []
          },
          "execution_count": 44
        }
      ]
    },
    {
      "cell_type": "code",
      "metadata": {
        "colab": {
          "base_uri": "https://localhost:8080/"
        },
        "id": "yDMLD_7D_Xkq",
        "outputId": "cf4796c7-59d0-4621-af75-79fc390973bd"
      },
      "source": [
        "# Seleccionando con una condicion\n",
        "Autos.loc[Autos.Peso >= 3600, 'Precio']"
      ],
      "execution_count": 47,
      "outputs": [
        {
          "output_type": "execute_result",
          "data": {
            "text/plain": [
              "A4 3.0 Quattro 4dr auto    $34,480\n",
              "A6 3.0 Quattro 4dr         $39,640\n",
              "A4 3.0 convertible 2dr     $42,490\n",
              "Name: Precio, dtype: object"
            ]
          },
          "metadata": {
            "tags": []
          },
          "execution_count": 47
        }
      ]
    },
    {
      "cell_type": "markdown",
      "metadata": {
        "id": "m-Ujo1yvB78Y"
      },
      "source": [
        "**Operaciones Basicas con Datos en Pandas**"
      ]
    },
    {
      "cell_type": "code",
      "metadata": {
        "colab": {
          "base_uri": "https://localhost:8080/",
          "height": 111
        },
        "id": "j3y4caOZCDqf",
        "outputId": "d2a4c7a9-eb13-42a9-e000-ebbe107fe809"
      },
      "source": [
        "# Transposicion\n",
        "Autos.T"
      ],
      "execution_count": 48,
      "outputs": [
        {
          "output_type": "execute_result",
          "data": {
            "text/plain": [
              "       A4 3.0 Quattro 4dr manual A4 3.0 Quattro 4dr auto A6 3.0 4dr  \\\n",
              "Peso                        3583                    3627       3561   \n",
              "Precio                   $33,430                 $34,480    $36,640   \n",
              "\n",
              "       A6 3.0 Quattro 4dr A4 3.0 convertible 2dr  \n",
              "Peso                 3880                   3814  \n",
              "Precio            $39,640                $42,490  "
            ],
            "text/html": [
              "<div>\n",
              "<style scoped>\n",
              "    .dataframe tbody tr th:only-of-type {\n",
              "        vertical-align: middle;\n",
              "    }\n",
              "\n",
              "    .dataframe tbody tr th {\n",
              "        vertical-align: top;\n",
              "    }\n",
              "\n",
              "    .dataframe thead th {\n",
              "        text-align: right;\n",
              "    }\n",
              "</style>\n",
              "<table border=\"1\" class=\"dataframe\">\n",
              "  <thead>\n",
              "    <tr style=\"text-align: right;\">\n",
              "      <th></th>\n",
              "      <th>A4 3.0 Quattro 4dr manual</th>\n",
              "      <th>A4 3.0 Quattro 4dr auto</th>\n",
              "      <th>A6 3.0 4dr</th>\n",
              "      <th>A6 3.0 Quattro 4dr</th>\n",
              "      <th>A4 3.0 convertible 2dr</th>\n",
              "    </tr>\n",
              "  </thead>\n",
              "  <tbody>\n",
              "    <tr>\n",
              "      <th>Peso</th>\n",
              "      <td>3583</td>\n",
              "      <td>3627</td>\n",
              "      <td>3561</td>\n",
              "      <td>3880</td>\n",
              "      <td>3814</td>\n",
              "    </tr>\n",
              "    <tr>\n",
              "      <th>Precio</th>\n",
              "      <td>$33,430</td>\n",
              "      <td>$34,480</td>\n",
              "      <td>$36,640</td>\n",
              "      <td>$39,640</td>\n",
              "      <td>$42,490</td>\n",
              "    </tr>\n",
              "  </tbody>\n",
              "</table>\n",
              "</div>"
            ]
          },
          "metadata": {
            "tags": []
          },
          "execution_count": 48
        }
      ]
    },
    {
      "cell_type": "code",
      "metadata": {
        "colab": {
          "base_uri": "https://localhost:8080/"
        },
        "id": "iL_JlMST_mvA",
        "outputId": "d466e86d-e3f3-4ad6-f985-0a6cb7a06fa1"
      },
      "source": [
        "# Funciones Vectorizadas\n",
        "## Las funciones vectorizadas o ufunc de numpy pueden realizarse tambien sobre Data Frames y Series\n",
        "## Tras ejecutar la operacion, se conservan los indices\n",
        "Numeros_3 = range(51,70,2)\n",
        "Numeros_serie_3 = pd.Series(Numeros_3, index=Numeros_en_texto)\n",
        "Numeros_serie_3"
      ],
      "execution_count": 50,
      "outputs": [
        {
          "output_type": "execute_result",
          "data": {
            "text/plain": [
              "primero    51\n",
              "segundo    53\n",
              "tercero    55\n",
              "cuarto     57\n",
              "quinto     59\n",
              "sexto      61\n",
              "septimo    63\n",
              "octavo     65\n",
              "noveno     67\n",
              "decimo     69\n",
              "dtype: int64"
            ]
          },
          "metadata": {
            "tags": []
          },
          "execution_count": 50
        }
      ]
    },
    {
      "cell_type": "code",
      "metadata": {
        "colab": {
          "base_uri": "https://localhost:8080/",
          "height": 204
        },
        "id": "rBtrF1saC1gj",
        "outputId": "d55b4493-e03c-481d-92a2-92e3f5a19bce"
      },
      "source": [
        "largo = [179, 179, 192, 192, 180]\n",
        "Autos_2 = pd.DataFrame({'Peso':peso,'Largo':largo},index=modelos)\n",
        "Autos_2"
      ],
      "execution_count": 51,
      "outputs": [
        {
          "output_type": "execute_result",
          "data": {
            "text/plain": [
              "                           Peso  Largo\n",
              "A4 3.0 Quattro 4dr manual  3583    179\n",
              "A4 3.0 Quattro 4dr auto    3627    179\n",
              "A6 3.0 4dr                 3561    192\n",
              "A6 3.0 Quattro 4dr         3880    192\n",
              "A4 3.0 convertible 2dr     3814    180"
            ],
            "text/html": [
              "<div>\n",
              "<style scoped>\n",
              "    .dataframe tbody tr th:only-of-type {\n",
              "        vertical-align: middle;\n",
              "    }\n",
              "\n",
              "    .dataframe tbody tr th {\n",
              "        vertical-align: top;\n",
              "    }\n",
              "\n",
              "    .dataframe thead th {\n",
              "        text-align: right;\n",
              "    }\n",
              "</style>\n",
              "<table border=\"1\" class=\"dataframe\">\n",
              "  <thead>\n",
              "    <tr style=\"text-align: right;\">\n",
              "      <th></th>\n",
              "      <th>Peso</th>\n",
              "      <th>Largo</th>\n",
              "    </tr>\n",
              "  </thead>\n",
              "  <tbody>\n",
              "    <tr>\n",
              "      <th>A4 3.0 Quattro 4dr manual</th>\n",
              "      <td>3583</td>\n",
              "      <td>179</td>\n",
              "    </tr>\n",
              "    <tr>\n",
              "      <th>A4 3.0 Quattro 4dr auto</th>\n",
              "      <td>3627</td>\n",
              "      <td>179</td>\n",
              "    </tr>\n",
              "    <tr>\n",
              "      <th>A6 3.0 4dr</th>\n",
              "      <td>3561</td>\n",
              "      <td>192</td>\n",
              "    </tr>\n",
              "    <tr>\n",
              "      <th>A6 3.0 Quattro 4dr</th>\n",
              "      <td>3880</td>\n",
              "      <td>192</td>\n",
              "    </tr>\n",
              "    <tr>\n",
              "      <th>A4 3.0 convertible 2dr</th>\n",
              "      <td>3814</td>\n",
              "      <td>180</td>\n",
              "    </tr>\n",
              "  </tbody>\n",
              "</table>\n",
              "</div>"
            ]
          },
          "metadata": {
            "tags": []
          },
          "execution_count": 51
        }
      ]
    },
    {
      "cell_type": "code",
      "metadata": {
        "colab": {
          "base_uri": "https://localhost:8080/",
          "height": 204
        },
        "id": "X7MwCXT3C1rh",
        "outputId": "3afc47fa-4e08-4479-8be2-d5877bb76767"
      },
      "source": [
        "Autos_2 / Autos_2.iloc[0] * 100"
      ],
      "execution_count": 52,
      "outputs": [
        {
          "output_type": "execute_result",
          "data": {
            "text/plain": [
              "                                 Peso       Largo\n",
              "A4 3.0 Quattro 4dr manual  100.000000  100.000000\n",
              "A4 3.0 Quattro 4dr auto    101.228021  100.000000\n",
              "A6 3.0 4dr                  99.385989  107.262570\n",
              "A6 3.0 Quattro 4dr         108.289143  107.262570\n",
              "A4 3.0 convertible 2dr     106.447111  100.558659"
            ],
            "text/html": [
              "<div>\n",
              "<style scoped>\n",
              "    .dataframe tbody tr th:only-of-type {\n",
              "        vertical-align: middle;\n",
              "    }\n",
              "\n",
              "    .dataframe tbody tr th {\n",
              "        vertical-align: top;\n",
              "    }\n",
              "\n",
              "    .dataframe thead th {\n",
              "        text-align: right;\n",
              "    }\n",
              "</style>\n",
              "<table border=\"1\" class=\"dataframe\">\n",
              "  <thead>\n",
              "    <tr style=\"text-align: right;\">\n",
              "      <th></th>\n",
              "      <th>Peso</th>\n",
              "      <th>Largo</th>\n",
              "    </tr>\n",
              "  </thead>\n",
              "  <tbody>\n",
              "    <tr>\n",
              "      <th>A4 3.0 Quattro 4dr manual</th>\n",
              "      <td>100.000000</td>\n",
              "      <td>100.000000</td>\n",
              "    </tr>\n",
              "    <tr>\n",
              "      <th>A4 3.0 Quattro 4dr auto</th>\n",
              "      <td>101.228021</td>\n",
              "      <td>100.000000</td>\n",
              "    </tr>\n",
              "    <tr>\n",
              "      <th>A6 3.0 4dr</th>\n",
              "      <td>99.385989</td>\n",
              "      <td>107.262570</td>\n",
              "    </tr>\n",
              "    <tr>\n",
              "      <th>A6 3.0 Quattro 4dr</th>\n",
              "      <td>108.289143</td>\n",
              "      <td>107.262570</td>\n",
              "    </tr>\n",
              "    <tr>\n",
              "      <th>A4 3.0 convertible 2dr</th>\n",
              "      <td>106.447111</td>\n",
              "      <td>100.558659</td>\n",
              "    </tr>\n",
              "  </tbody>\n",
              "</table>\n",
              "</div>"
            ]
          },
          "metadata": {
            "tags": []
          },
          "execution_count": 52
        }
      ]
    },
    {
      "cell_type": "code",
      "metadata": {
        "colab": {
          "base_uri": "https://localhost:8080/"
        },
        "id": "PtFnaHjbC1uR",
        "outputId": "5ab3c11e-eb08-4699-ff63-67214457f60f"
      },
      "source": [
        "# Conservacion de los indices\n",
        "Numeros_serie_2"
      ],
      "execution_count": 53,
      "outputs": [
        {
          "output_type": "execute_result",
          "data": {
            "text/plain": [
              "primero    50\n",
              "segundo    52\n",
              "tercero    54\n",
              "cuarto     56\n",
              "quinto     58\n",
              "sexto      60\n",
              "septimo    62\n",
              "octavo     64\n",
              "noveno     66\n",
              "decimo     68\n",
              "dtype: int64"
            ]
          },
          "metadata": {
            "tags": []
          },
          "execution_count": 53
        }
      ]
    },
    {
      "cell_type": "code",
      "metadata": {
        "colab": {
          "base_uri": "https://localhost:8080/"
        },
        "id": "UkmNMQg-C1xy",
        "outputId": "e635f4c1-0f4d-4db1-e6db-ca40abfb17ba"
      },
      "source": [
        "Numeros_serie_2 + Numeros_serie_3"
      ],
      "execution_count": 54,
      "outputs": [
        {
          "output_type": "execute_result",
          "data": {
            "text/plain": [
              "primero    101\n",
              "segundo    105\n",
              "tercero    109\n",
              "cuarto     113\n",
              "quinto     117\n",
              "sexto      121\n",
              "septimo    125\n",
              "octavo     129\n",
              "noveno     133\n",
              "decimo     137\n",
              "dtype: int64"
            ]
          },
          "metadata": {
            "tags": []
          },
          "execution_count": 54
        }
      ]
    },
    {
      "cell_type": "code",
      "metadata": {
        "colab": {
          "base_uri": "https://localhost:8080/"
        },
        "id": "8FukdfnlC10G",
        "outputId": "154bd0f0-c783-40d9-963d-5f42f9974426"
      },
      "source": [
        "Numeros_serie_2.add(Numeros_serie_3)"
      ],
      "execution_count": 55,
      "outputs": [
        {
          "output_type": "execute_result",
          "data": {
            "text/plain": [
              "primero    101\n",
              "segundo    105\n",
              "tercero    109\n",
              "cuarto     113\n",
              "quinto     117\n",
              "sexto      121\n",
              "septimo    125\n",
              "octavo     129\n",
              "noveno     133\n",
              "decimo     137\n",
              "dtype: int64"
            ]
          },
          "metadata": {
            "tags": []
          },
          "execution_count": 55
        }
      ]
    },
    {
      "cell_type": "code",
      "metadata": {
        "colab": {
          "base_uri": "https://localhost:8080/"
        },
        "id": "X6n3HrEbDSln",
        "outputId": "34532e28-ffa7-4a1e-a4be-23662ae68007"
      },
      "source": [
        "# Conservacion de los indices\n",
        "Numeros_serie_2_porcion = Numeros_serie_2[4:7]\n",
        "Numeros_serie_3_porcion = Numeros_serie_3[5:8]\n",
        "print(Numeros_serie_3_porcion, Numeros_serie_2_porcion)"
      ],
      "execution_count": 56,
      "outputs": [
        {
          "output_type": "stream",
          "text": [
            "sexto      61\n",
            "septimo    63\n",
            "octavo     65\n",
            "dtype: int64 quinto     58\n",
            "sexto      60\n",
            "septimo    62\n",
            "dtype: int64\n"
          ],
          "name": "stdout"
        }
      ]
    },
    {
      "cell_type": "code",
      "metadata": {
        "colab": {
          "base_uri": "https://localhost:8080/"
        },
        "id": "igAHtcx9DSog",
        "outputId": "661c3482-7659-4013-b583-92c2f451a925"
      },
      "source": [
        "# Los indices que no coinciden, se rellenan con NaN\n",
        "print(Numeros_serie_2_porcion + Numeros_serie_3_porcion)"
      ],
      "execution_count": 57,
      "outputs": [
        {
          "output_type": "stream",
          "text": [
            "octavo       NaN\n",
            "quinto       NaN\n",
            "septimo    125.0\n",
            "sexto      121.0\n",
            "dtype: float64\n"
          ],
          "name": "stdout"
        }
      ]
    },
    {
      "cell_type": "markdown",
      "metadata": {
        "id": "DSOwm8lYETkE"
      },
      "source": [
        "**Lidiando con valores faltantes**"
      ]
    },
    {
      "cell_type": "code",
      "metadata": {
        "colab": {
          "base_uri": "https://localhost:8080/"
        },
        "id": "RXtB1R8AEbSp",
        "outputId": "bedbae17-ba87-4de5-eb65-5d4013deb395"
      },
      "source": [
        "# La mayoria de las operaciones en Pandas, admiten un parametro 'fill_value', que indica el valor a inserar en caso de resultar un NaN\n",
        "Numeros_serie_2_porcion.add(Numeros_serie_3_porcion, fill_value = 0)"
      ],
      "execution_count": 58,
      "outputs": [
        {
          "output_type": "execute_result",
          "data": {
            "text/plain": [
              "octavo      65.0\n",
              "quinto      58.0\n",
              "septimo    125.0\n",
              "sexto      121.0\n",
              "dtype: float64"
            ]
          },
          "metadata": {
            "tags": []
          },
          "execution_count": 58
        }
      ]
    },
    {
      "cell_type": "code",
      "metadata": {
        "colab": {
          "base_uri": "https://localhost:8080/"
        },
        "id": "DeHIhN04DSsF",
        "outputId": "3304e38d-eac8-4e32-9203-fc715df17922"
      },
      "source": [
        "valor_nan = np.nan\n",
        "type(valor_nan)"
      ],
      "execution_count": 59,
      "outputs": [
        {
          "output_type": "execute_result",
          "data": {
            "text/plain": [
              "float"
            ]
          },
          "metadata": {
            "tags": []
          },
          "execution_count": 59
        }
      ]
    },
    {
      "cell_type": "code",
      "metadata": {
        "colab": {
          "base_uri": "https://localhost:8080/"
        },
        "id": "EA-XgpHXDSun",
        "outputId": "6a82b4b0-e91e-4fb9-e3bf-6f5657b00c4d"
      },
      "source": [
        "2 * valor_nan"
      ],
      "execution_count": 60,
      "outputs": [
        {
          "output_type": "execute_result",
          "data": {
            "text/plain": [
              "nan"
            ]
          },
          "metadata": {
            "tags": []
          },
          "execution_count": 60
        }
      ]
    },
    {
      "cell_type": "code",
      "metadata": {
        "colab": {
          "base_uri": "https://localhost:8080/"
        },
        "id": "cNAdH7CDDSx7",
        "outputId": "764f0bf4-25d7-4d8b-e3f4-3e15b23220a4"
      },
      "source": [
        "np.nanprod([2,valor_nan])"
      ],
      "execution_count": 61,
      "outputs": [
        {
          "output_type": "execute_result",
          "data": {
            "text/plain": [
              "2.0"
            ]
          },
          "metadata": {
            "tags": []
          },
          "execution_count": 61
        }
      ]
    },
    {
      "cell_type": "markdown",
      "metadata": {
        "id": "8RoJQc1mF4zi"
      },
      "source": [
        "**Trabajando con Datos Ausentes**"
      ]
    },
    {
      "cell_type": "code",
      "metadata": {
        "colab": {
          "base_uri": "https://localhost:8080/"
        },
        "id": "nS4pCl1LF9Gi",
        "outputId": "14780c0e-2846-49f2-dc40-949ccf0e8034"
      },
      "source": [
        "Numeros_nan = Numeros_serie_2_porcion + Numeros_serie_3_porcion\n",
        "Numeros_nan"
      ],
      "execution_count": 66,
      "outputs": [
        {
          "output_type": "execute_result",
          "data": {
            "text/plain": [
              "octavo       NaN\n",
              "quinto       NaN\n",
              "septimo    125.0\n",
              "sexto      121.0\n",
              "dtype: float64"
            ]
          },
          "metadata": {
            "tags": []
          },
          "execution_count": 66
        }
      ]
    },
    {
      "cell_type": "code",
      "metadata": {
        "colab": {
          "base_uri": "https://localhost:8080/"
        },
        "id": "dZsbDE0hGF8f",
        "outputId": "449d9ed5-b817-488e-f54c-f06b40e16c12"
      },
      "source": [
        "# Podemos Marcarlos\n",
        "Numeros_nan.isnull()"
      ],
      "execution_count": 67,
      "outputs": [
        {
          "output_type": "execute_result",
          "data": {
            "text/plain": [
              "octavo      True\n",
              "quinto      True\n",
              "septimo    False\n",
              "sexto      False\n",
              "dtype: bool"
            ]
          },
          "metadata": {
            "tags": []
          },
          "execution_count": 67
        }
      ]
    },
    {
      "cell_type": "code",
      "metadata": {
        "colab": {
          "base_uri": "https://localhost:8080/"
        },
        "id": "9BnQf0PlGFGH",
        "outputId": "41e35fbb-ecf4-4b42-b743-751d47417727"
      },
      "source": [
        "# Podemos Reemplazarlos\n",
        "Numeros_nan.fillna(0)"
      ],
      "execution_count": 68,
      "outputs": [
        {
          "output_type": "execute_result",
          "data": {
            "text/plain": [
              "octavo       0.0\n",
              "quinto       0.0\n",
              "septimo    125.0\n",
              "sexto      121.0\n",
              "dtype: float64"
            ]
          },
          "metadata": {
            "tags": []
          },
          "execution_count": 68
        }
      ]
    },
    {
      "cell_type": "code",
      "metadata": {
        "colab": {
          "base_uri": "https://localhost:8080/"
        },
        "id": "-jvVW3g5DSzo",
        "outputId": "e687c448-8ebc-4f03-86e6-dc4099ea0965"
      },
      "source": [
        "# Podemos Eliminarlos \n",
        "Numeros_nan.dropna()"
      ],
      "execution_count": 69,
      "outputs": [
        {
          "output_type": "execute_result",
          "data": {
            "text/plain": [
              "septimo    125.0\n",
              "sexto      121.0\n",
              "dtype: float64"
            ]
          },
          "metadata": {
            "tags": []
          },
          "execution_count": 69
        }
      ]
    },
    {
      "cell_type": "markdown",
      "metadata": {
        "id": "GcFzFy2ZGiI9"
      },
      "source": [
        "# Resumen\n",
        "Nociones básicas de Pandas: \n",
        "Data Wrangling y Pandas \n",
        "Las estructuras de datos en Pandas \n",
        "Selección de elementos\n",
        "Operaciones básicas con datos en Pandas\n"
      ]
    },
    {
      "cell_type": "code",
      "metadata": {
        "id": "3VW-xrVWGnNP"
      },
      "source": [
        ""
      ],
      "execution_count": null,
      "outputs": []
    }
  ]
}